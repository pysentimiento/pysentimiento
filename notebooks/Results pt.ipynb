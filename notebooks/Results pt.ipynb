{
 "cells": [
  {
   "attachments": {},
   "cell_type": "markdown",
   "metadata": {},
   "source": [
    "# Results\n",
    "\n",
    "In this notebook we explore the results of the experiments, which are stored in wandb"
   ]
  },
  {
   "cell_type": "code",
   "execution_count": 1,
   "metadata": {},
   "outputs": [],
   "source": [
    "# Get wandb api object\n",
    "import wandb\n",
    "\n",
    "api = wandb.Api()\n",
    "\n",
    "# Get all runs\n",
    "project = api.project(\"pysentimiento\")\n",
    "\n",
    "\n",
    "# Get all runs for sentiment and lang es\n",
    "runs = [r for r in api.runs(\"pysentimiento\", {\"config.lang\": \"pt\"}) if not r.sweep]"
   ]
  },
  {
   "cell_type": "code",
   "execution_count": 2,
   "metadata": {},
   "outputs": [
    {
     "name": "stdout",
     "output_type": "stream",
     "text": [
      "Run bumbling-hill-722 has no macro f1\n",
      "{'_wandb': {'runtime': 0}}\n",
      "Run driven-sweep-7 has no macro f1\n",
      "{'eval/macro_f1': 0.4783643782138825, 'train/global_step': 1200, 'eval/neu_recall': 0.18312101910828024, 'eval/pos_recall': 0.8392857142857143, 'eval/macro_precision': 0.5230864882469177, 'eval/steps_per_second': 7.078, 'train/learning_rate': 0, 'eval/loss': 0.9725472927093506, 'train/loss': 0.8413, 'eval/pos_f1': 0.6701688555347092, 'eval/neg_precision': 0.6149312377210217, 'eval/neu_precision': 0.39655172413793105, 'train/train_loss': 0.9332966486612956, 'train/train_runtime': 663.1867, 'eval/samples_per_second': 226.495, '_step': 8, '_wandb': {'runtime': 685}, '_runtime': 685.9872334003448, 'eval/neu_f1': 0.25054466230936817, 'eval/pos_precision': 0.5577763897564022, '_timestamp': 1677192014.9587574, 'train/epoch': 4, 'eval/runtime': 10.5963, 'eval/neg_recall': 0.442090395480226, 'eval/acc': 0.5504166666666667, 'eval/neg_f1': 0.514379622021364, 'eval/micro_f1': 0.5504166666666667, 'train/train_steps_per_second': 1.809, 'train/total_flos': 1689769407283200.0, 'eval/macro_recall': 0.4881657063961029, 'train/train_samples_per_second': 57.902}\n",
      "Run valiant-sweep-6 has no macro f1\n",
      "{'eval/loss': 0.9725472927093506, '_timestamp': 1677191314.4089785, 'eval/pos_precision': 0.5577763897564022, 'eval/neg_recall': 0.442090395480226, 'eval/acc': 0.5504166666666667, 'eval/pos_f1': 0.6701688555347092, 'train/epoch': 4, 'eval/macro_f1': 0.4783643782138825, 'eval/neu_f1': 0.25054466230936817, 'eval/neu_recall': 0.18312101910828024, 'train/learning_rate': 0, 'eval/neg_precision': 0.6149312377210217, '_wandb': {'runtime': 683}, 'train/loss': 0.8413, 'train/total_flos': 1689769407283200.0, 'train/train_loss': 0.9332966486612956, 'eval/runtime': 10.6925, 'eval/micro_f1': 0.5504166666666667, 'eval/samples_per_second': 224.456, 'eval/pos_recall': 0.8392857142857143, 'train/global_step': 1200, 'eval/neu_precision': 0.39655172413793105, 'train/train_runtime': 662.3225, 'train/train_samples_per_second': 57.978, '_step': 8, 'eval/neg_f1': 0.514379622021364, 'eval/macro_precision': 0.5230864882469177, 'eval/steps_per_second': 7.014, '_runtime': 684.5104184150696, 'eval/macro_recall': 0.4881657063961029, 'train/train_steps_per_second': 1.812}\n",
      "Run comfy-sweep-5 has no macro f1\n",
      "{'eval/pos_precision': 0.5481927710843374, 'eval/steps_per_second': 7.171, 'train/loss': 0.917, 'train/train_loss': 0.9841207631429036, 'train/global_step': 1200, 'eval/samples_per_second': 229.486, 'eval/macro_f1': 0.4335555136203766, 'eval/macro_precision': 0.5091555714607239, '_wandb': {'runtime': 682}, 'eval/runtime': 10.4582, 'train/total_flos': 1689769407283200.0, 'eval/micro_f1': 0.5416666666666666, 'eval/neu_precision': 0.4387755102040816, '_step': 8, '_runtime': 683.0151138305664, 'train/epoch': 4, 'eval/macro_recall': 0.4712824821472168, 'eval/neg_precision': 0.5404984423676013, 'eval/loss': 0.958969235420227, '_timestamp': 1677190617.9078648, 'eval/neg_f1': 0.514074074074074, 'eval/neg_recall': 0.4901129943502825, 'eval/neu_recall': 0.06847133757961783, 'eval/pos_recall': 0.8552631578947368, 'train/learning_rate': 0, 'train/train_runtime': 659.2697, 'eval/acc': 0.5416666666666666, 'eval/neu_f1': 0.1184573002754821, 'eval/pos_f1': 0.6681350954478709, 'train/train_steps_per_second': 1.82, 'train/train_samples_per_second': 58.246}\n",
      "Run snowy-sweep-4 has no macro f1\n",
      "{'eval/loss': 0.9830532670021056, 'eval/steps_per_second': 7.122, '_runtime': 683.6609501838684, 'train/epoch': 4, 'eval/macro_precision': 0.5621067881584167, 'eval/acc': 0.5666666666666667, 'train/total_flos': 1689769407283200.0, 'train/train_loss': 0.8984172693888346, 'train/learning_rate': 0, 'eval/neu_f1': 0.324, 'eval/macro_f1': 0.5054677724838257, 'eval/pos_f1': 0.6808988764044944, 'train/train_steps_per_second': 1.818, '_step': 8, '_wandb': {'runtime': 682}, '_timestamp': 1677189922.961156, 'train/loss': 0.7612, 'eval/runtime': 10.5311, 'eval/micro_f1': 0.5666666666666667, 'eval/pos_recall': 0.8543233082706767, 'eval/neu_precision': 0.43548387096774194, 'eval/pos_precision': 0.566002490660025, 'train/train_samples_per_second': 58.186, 'eval/neg_f1': 0.5115044247787611, 'eval/neg_recall': 0.4081920903954802, 'eval/neu_recall': 0.25796178343949044, 'train/global_step': 1200, 'eval/neg_precision': 0.6848341232227488, 'eval/samples_per_second': 227.897, 'eval/macro_recall': 0.5068257451057434, 'train/train_runtime': 659.9469}\n",
      "Run gentle-sweep-3 has no macro f1\n",
      "{'eval/neg_f1': 0.512174643157011, 'eval/neu_recall': 0.21178343949044587, 'eval/neg_precision': 0.6314699792960663, 'train/train_runtime': 493.9845, 'train/epoch': 3, 'train/global_step': 900, 'eval/pos_precision': 0.5682819383259912, '_step': 6, 'eval/loss': 0.9539783000946044, 'eval/macro_recall': 0.49708619713783264, 'eval/neu_precision': 0.4054878048780488, 'eval/macro_f1': 0.4903853833675385, 'eval/micro_f1': 0.55875, 'train/total_flos': 1267327055462400.0, 'eval/steps_per_second': 7.087, '_timestamp': 1677189227.003689, 'train/loss': 0.8155, 'eval/neg_recall': 0.4307909604519774, 'eval/pos_recall': 0.8486842105263158, 'train/train_loss': 0.9230984666612412, 'train/train_samples_per_second': 58.301, '_runtime': 516.1071720123291, 'eval/acc': 0.55875, 'eval/pos_f1': 0.6807387862796834, 'eval/samples_per_second': 226.768, 'eval/neu_f1': 0.2782426778242678, 'eval/runtime': 10.5835, 'train/learning_rate': 0, 'eval/macro_precision': 0.5350798964500427, '_wandb': {'runtime': 515}, 'train/train_steps_per_second': 1.822}\n",
      "Run fresh-sweep-2 has no macro f1\n",
      "{'eval/loss': 1.0682480335235596, 'train/learning_rate': 0, 'train/train_steps_per_second': 1.813, 'eval/neu_f1': 0, 'eval/neg_recall': 0, 'eval/neg_f1': 0, 'eval/neu_recall': 0, 'eval/macro_recall': 0.3333333432674408, '_step': 8, '_runtime': 684.5362784862518, 'eval/macro_precision': 0.14777778089046478, 'eval/steps_per_second': 6.992, 'train/loss': 1.0708, 'train/train_loss': 1.073337249755859, 'train/total_flos': 1689769407283200.0, 'train/train_runtime': 661.938, 'eval/samples_per_second': 223.732, 'train/train_samples_per_second': 58.011, 'eval/runtime': 10.7271, 'eval/micro_f1': 0.44333333333333336, 'eval/macro_f1': 0.2047729045152664, 'eval/neg_precision': 0, 'eval/neu_precision': 0, '_wandb': {'runtime': 683}, 'train/epoch': 4, 'eval/pos_recall': 1, 'train/global_step': 1200, 'eval/pos_precision': 0.44333333333333336, '_timestamp': 1677188695.4971075, 'eval/pos_f1': 0.6143187066974596, 'eval/acc': 0.44333333333333336}\n",
      "Run effortless-sweep-1 has no macro f1\n",
      "{'train/loss': 0.8506, 'eval/steps_per_second': 7.041, '_step': 8, 'eval/pos_precision': 0.5553539019963702, 'eval/macro_precision': 0.5307063460350037, 'train/total_flos': 1689769407283200.0, 'eval/macro_f1': 0.4709129333496094, 'eval/pos_recall': 0.8627819548872181, 'train/train_loss': 0.9413204193115234, 'eval/neu_f1': 0.21930870083432655, 'eval/neg_f1': 0.517684887459807, 'eval/neu_recall': 0.1464968152866242, 'train/train_runtime': 652.3282, 'eval/loss': 0.9527270793914796, 'eval/pos_f1': 0.6757453073242546, 'eval/neg_precision': 0.6007462686567164, '_wandb': {'runtime': 676}, 'eval/runtime': 10.6524, 'eval/macro_recall': 0.48802700638771057, '_runtime': 677.4166157245636, 'eval/neg_recall': 0.4548022598870056, 'eval/neu_precision': 0.4360189573459716, 'train/learning_rate': 0, 'train/train_steps_per_second': 1.84, 'eval/micro_f1': 0.555, '_timestamp': 1677187996.1402638, 'train/epoch': 4, 'train/global_step': 1200, 'eval/samples_per_second': 225.302, 'train/train_samples_per_second': 58.866, 'eval/acc': 0.555}\n"
     ]
    }
   ],
   "source": [
    "data = []\n",
    "\n",
    "renames = {\n",
    "    \"pysentimiento/robertuito-base-uncased\": \"RoBERTuito\",\n",
    "    \"pablocosta/bertabaporu-base-uncased\": \"BERTabaporu\",\n",
    "    'neuralmind/bert-base-portuguese-cased': \"BERT-pt\",\n",
    "    'melll-uff/bertweetbr': \"BERTweet-BR\",\n",
    "}\n",
    "\n",
    "for run in runs:\n",
    "    # Get model name\n",
    "    model_name = run.config[\"model\"]\n",
    "    # Get task \n",
    "    task = run.config[\"task\"]\n",
    "    # Get Macro f1 performance\n",
    "    try:\n",
    "        macro_f1 = run.summary[\"test_macro_f1\"]\n",
    "    except KeyError:\n",
    "        print(f\"Run {run.name} has no macro f1\")\n",
    "        print(run.summary)\n",
    "        continue\n",
    "\n",
    "    data.append({\n",
    "        \"model\": model_name,\n",
    "        \"task\": task,\n",
    "        \"macro_f1\": macro_f1,\n",
    "    })"
   ]
  },
  {
   "cell_type": "code",
   "execution_count": 3,
   "metadata": {},
   "outputs": [
    {
     "data": {
      "text/html": [
       "<div>\n",
       "<style scoped>\n",
       "    .dataframe tbody tr th:only-of-type {\n",
       "        vertical-align: middle;\n",
       "    }\n",
       "\n",
       "    .dataframe tbody tr th {\n",
       "        vertical-align: top;\n",
       "    }\n",
       "\n",
       "    .dataframe thead th {\n",
       "        text-align: right;\n",
       "    }\n",
       "</style>\n",
       "<table border=\"1\" class=\"dataframe\">\n",
       "  <thead>\n",
       "    <tr style=\"text-align: right;\">\n",
       "      <th>task</th>\n",
       "      <th>emotion</th>\n",
       "      <th>hate_speech</th>\n",
       "      <th>sentiment</th>\n",
       "    </tr>\n",
       "    <tr>\n",
       "      <th>model</th>\n",
       "      <th></th>\n",
       "      <th></th>\n",
       "      <th></th>\n",
       "    </tr>\n",
       "  </thead>\n",
       "  <tbody>\n",
       "    <tr>\n",
       "      <th>BERT-pt</th>\n",
       "      <td>44.4 +- 0.6</td>\n",
       "      <td>64.1 +- 1.1</td>\n",
       "      <td>70.0 +- 0.3</td>\n",
       "    </tr>\n",
       "    <tr>\n",
       "      <th>BERTabaporu</th>\n",
       "      <td>43.9 +- 0.5</td>\n",
       "      <td>70.3 +- 3.3</td>\n",
       "      <td>73.8 +- 0.4</td>\n",
       "    </tr>\n",
       "    <tr>\n",
       "      <th>BERTweet-BR</th>\n",
       "      <td>43.2 +- 1.1</td>\n",
       "      <td>55.6 +- 5.5</td>\n",
       "      <td>75.3 +- 0.5</td>\n",
       "    </tr>\n",
       "    <tr>\n",
       "      <th>RoBERTuito</th>\n",
       "      <td>45.2 +- 0.6</td>\n",
       "      <td>70.0 +- 2.4</td>\n",
       "      <td>71.7 +- 0.4</td>\n",
       "    </tr>\n",
       "  </tbody>\n",
       "</table>\n",
       "</div>"
      ],
      "text/plain": [
       "task             emotion  hate_speech    sentiment\n",
       "model                                             \n",
       "BERT-pt      44.4 +- 0.6  64.1 +- 1.1  70.0 +- 0.3\n",
       "BERTabaporu  43.9 +- 0.5  70.3 +- 3.3  73.8 +- 0.4\n",
       "BERTweet-BR  43.2 +- 1.1  55.6 +- 5.5  75.3 +- 0.5\n",
       "RoBERTuito   45.2 +- 0.6  70.0 +- 2.4  71.7 +- 0.4"
      ]
     },
     "execution_count": 3,
     "metadata": {},
     "output_type": "execute_result"
    }
   ],
   "source": [
    "import pandas as pd\n",
    "\n",
    "df = pd.DataFrame(data)\n",
    "\n",
    "df[\"model\"] = df[\"model\"].map(lambda x: renames[x])\n",
    "\n",
    "# Group by model and task\n",
    "\n",
    "grouped = df.groupby([\"task\", \"model\"])\n",
    "\n",
    "# Get mean macro f1 plus standard deviation in a single line with +- inbetween\n",
    "\n",
    "df_results = (grouped.mean() * 100).round(1).astype(str) + \" +- \" + (grouped.std() * 100).round(1).astype(str)\n",
    "\n",
    "df_results = df_results.unstack(\"task\")\n",
    "df_results.columns = df_results.columns.droplevel(0)\n",
    "\n",
    "df_results"
   ]
  },
  {
   "cell_type": "code",
   "execution_count": 7,
   "metadata": {},
   "outputs": [
    {
     "name": "stdout",
     "output_type": "stream",
     "text": [
      "| model       | emotion     | sentiment   | hate_speech   |\n",
      "|:------------|:------------|:------------|:--------------|\n",
      "| BERT-pt     | 44.4 +- 0.6 | 70.0 +- 0.3 | 64.1 +- 1.1   |\n",
      "| BERTabaporu | 43.9 +- 0.5 | 73.8 +- 0.4 | 70.3 +- 3.3   |\n",
      "| BERTweet-BR | 43.2 +- 1.1 | 75.3 +- 0.5 | 55.6 +- 5.5   |\n",
      "| RoBERTuito  | 45.2 +- 0.6 | 71.7 +- 0.4 | 70.0 +- 2.4   |\n"
     ]
    }
   ],
   "source": [
    "print(df_results[[\"emotion\", \"sentiment\", \"hate_speech\"]].to_markdown())"
   ]
  },
  {
   "cell_type": "code",
   "execution_count": 8,
   "metadata": {},
   "outputs": [
    {
     "data": {
      "text/html": [
       "<div>\n",
       "<style scoped>\n",
       "    .dataframe tbody tr th:only-of-type {\n",
       "        vertical-align: middle;\n",
       "    }\n",
       "\n",
       "    .dataframe tbody tr th {\n",
       "        vertical-align: top;\n",
       "    }\n",
       "\n",
       "    .dataframe thead th {\n",
       "        text-align: right;\n",
       "    }\n",
       "</style>\n",
       "<table border=\"1\" class=\"dataframe\">\n",
       "  <thead>\n",
       "    <tr style=\"text-align: right;\">\n",
       "      <th></th>\n",
       "      <th></th>\n",
       "      <th>mean macro f1</th>\n",
       "      <th>std macro f1</th>\n",
       "    </tr>\n",
       "    <tr>\n",
       "      <th>model</th>\n",
       "      <th>task</th>\n",
       "      <th></th>\n",
       "      <th></th>\n",
       "    </tr>\n",
       "  </thead>\n",
       "  <tbody>\n",
       "    <tr>\n",
       "      <th rowspan=\"3\" valign=\"top\">melll-uff/bertweetbr</th>\n",
       "      <th>emotion</th>\n",
       "      <td>43.225703</td>\n",
       "      <td>1.103411</td>\n",
       "    </tr>\n",
       "    <tr>\n",
       "      <th>hate_speech</th>\n",
       "      <td>55.641053</td>\n",
       "      <td>5.467568</td>\n",
       "    </tr>\n",
       "    <tr>\n",
       "      <th>sentiment</th>\n",
       "      <td>75.295410</td>\n",
       "      <td>0.486638</td>\n",
       "    </tr>\n",
       "    <tr>\n",
       "      <th rowspan=\"3\" valign=\"top\">neuralmind/bert-base-portuguese-cased</th>\n",
       "      <th>emotion</th>\n",
       "      <td>44.371630</td>\n",
       "      <td>0.570710</td>\n",
       "    </tr>\n",
       "    <tr>\n",
       "      <th>hate_speech</th>\n",
       "      <td>64.147000</td>\n",
       "      <td>1.099126</td>\n",
       "    </tr>\n",
       "    <tr>\n",
       "      <th>sentiment</th>\n",
       "      <td>69.973505</td>\n",
       "      <td>0.337301</td>\n",
       "    </tr>\n",
       "    <tr>\n",
       "      <th rowspan=\"3\" valign=\"top\">pablocosta/bertabaporu-base-uncased</th>\n",
       "      <th>emotion</th>\n",
       "      <td>43.881166</td>\n",
       "      <td>0.515098</td>\n",
       "    </tr>\n",
       "    <tr>\n",
       "      <th>hate_speech</th>\n",
       "      <td>70.310500</td>\n",
       "      <td>3.260516</td>\n",
       "    </tr>\n",
       "    <tr>\n",
       "      <th>sentiment</th>\n",
       "      <td>73.777885</td>\n",
       "      <td>0.404985</td>\n",
       "    </tr>\n",
       "    <tr>\n",
       "      <th rowspan=\"3\" valign=\"top\">pysentimiento/robertuito-base-uncased</th>\n",
       "      <th>emotion</th>\n",
       "      <td>45.168451</td>\n",
       "      <td>0.633867</td>\n",
       "    </tr>\n",
       "    <tr>\n",
       "      <th>hate_speech</th>\n",
       "      <td>69.953339</td>\n",
       "      <td>2.428643</td>\n",
       "    </tr>\n",
       "    <tr>\n",
       "      <th>sentiment</th>\n",
       "      <td>71.661114</td>\n",
       "      <td>0.427126</td>\n",
       "    </tr>\n",
       "  </tbody>\n",
       "</table>\n",
       "</div>"
      ],
      "text/plain": [
       "                                                   mean macro f1  std macro f1\n",
       "model                                 task                                    \n",
       "melll-uff/bertweetbr                  emotion          43.225703      1.103411\n",
       "                                      hate_speech      55.641053      5.467568\n",
       "                                      sentiment        75.295410      0.486638\n",
       "neuralmind/bert-base-portuguese-cased emotion          44.371630      0.570710\n",
       "                                      hate_speech      64.147000      1.099126\n",
       "                                      sentiment        69.973505      0.337301\n",
       "pablocosta/bertabaporu-base-uncased   emotion          43.881166      0.515098\n",
       "                                      hate_speech      70.310500      3.260516\n",
       "                                      sentiment        73.777885      0.404985\n",
       "pysentimiento/robertuito-base-uncased emotion          45.168451      0.633867\n",
       "                                      hate_speech      69.953339      2.428643\n",
       "                                      sentiment        71.661114      0.427126"
      ]
     },
     "execution_count": 8,
     "metadata": {},
     "output_type": "execute_result"
    }
   ],
   "source": [
    "mean_df = pd.DataFrame(data).groupby([\"model\", \"task\"]).mean()\n",
    "std_df = pd.DataFrame(data).groupby([\"model\", \"task\"]).std()\n",
    "\n",
    "# Concat mean and std\n",
    "df = pd.concat([mean_df, std_df], axis=1)\n",
    "\n",
    "df.columns = [\"mean macro f1\", \"std macro f1\"]\n",
    "\n",
    "df = df * 100\n",
    "\n",
    "df"
   ]
  },
  {
   "cell_type": "code",
   "execution_count": 9,
   "metadata": {},
   "outputs": [],
   "source": [
    "df.reset_index().to_csv(\"../data/results_pt.csv\", index=False)"
   ]
  },
  {
   "cell_type": "code",
   "execution_count": 10,
   "metadata": {},
   "outputs": [],
   "source": [
    "df = pd.read_csv(\"../data/results_pt.csv\").set_index([\"model\", \"task\"])"
   ]
  },
  {
   "cell_type": "code",
   "execution_count": 11,
   "metadata": {},
   "outputs": [
    {
     "data": {
      "text/plain": [
       "69.95333909988403"
      ]
     },
     "execution_count": 11,
     "metadata": {},
     "output_type": "execute_result"
    }
   ],
   "source": [
    "df.loc[(\"pysentimiento/robertuito-base-uncased\", \"hate_speech\"), \"mean macro f1\"]"
   ]
  }
 ],
 "metadata": {
  "kernelspec": {
   "display_name": ".venv",
   "language": "python",
   "name": "python3"
  },
  "language_info": {
   "codemirror_mode": {
    "name": "ipython",
    "version": 3
   },
   "file_extension": ".py",
   "mimetype": "text/x-python",
   "name": "python",
   "nbconvert_exporter": "python",
   "pygments_lexer": "ipython3",
   "version": "3.8.16"
  },
  "orig_nbformat": 4,
  "vscode": {
   "interpreter": {
    "hash": "3fc79ed69e4c2b5a1db8fa17ebb1e82d66421519e5b018d314116a7b4cda9238"
   }
  }
 },
 "nbformat": 4,
 "nbformat_minor": 2
}
