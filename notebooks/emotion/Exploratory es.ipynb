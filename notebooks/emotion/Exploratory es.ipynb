{
 "cells": [
  {
   "cell_type": "markdown",
   "metadata": {},
   "source": [
    "## Exploratory Analysis\n",
    "\n"
   ]
  },
  {
   "cell_type": "code",
   "execution_count": 1,
   "metadata": {},
   "outputs": [],
   "source": [
    "%load_ext autoreload\n",
    "%autoreload 2\n",
    "import os\n",
    "from datasets import concatenate_datasets\n",
    "from pysentimiento.emotion import load_datasets, id2label\n",
    "\n",
    "train, dev, test = load_datasets(lang=\"es\", preprocess=False)\n",
    "\n",
    "\n",
    "df = concatenate_datasets([train, dev, test]).to_pandas()\n",
    "\n",
    "df[\"label\"] = df[\"label\"].apply(lambda x: id2label[x])"
   ]
  },
  {
   "cell_type": "code",
   "execution_count": 2,
   "metadata": {},
   "outputs": [
    {
     "data": {
      "text/plain": [
       "others      49.078368\n",
       "joy         21.584017\n",
       "sadness     11.999049\n",
       "anger       10.191462\n",
       "surprise     4.090855\n",
       "disgust      1.914615\n",
       "fear         1.141634\n",
       "Name: label, dtype: float64"
      ]
     },
     "execution_count": 2,
     "metadata": {},
     "output_type": "execute_result"
    }
   ],
   "source": [
    "df[\"label\"].value_counts(normalize=True) * 100"
   ]
  },
  {
   "cell_type": "code",
   "execution_count": 3,
   "metadata": {},
   "outputs": [
    {
     "data": {
      "text/plain": [
       "(8409, 2)"
      ]
     },
     "execution_count": 3,
     "metadata": {},
     "output_type": "execute_result"
    }
   ],
   "source": [
    "df.shape"
   ]
  },
  {
   "cell_type": "code",
   "execution_count": 20,
   "metadata": {},
   "outputs": [
    {
     "data": {
      "text/html": [
       "<div>\n",
       "<style scoped>\n",
       "    .dataframe tbody tr th:only-of-type {\n",
       "        vertical-align: middle;\n",
       "    }\n",
       "\n",
       "    .dataframe tbody tr th {\n",
       "        vertical-align: top;\n",
       "    }\n",
       "\n",
       "    .dataframe thead th {\n",
       "        text-align: right;\n",
       "    }\n",
       "</style>\n",
       "<table border=\"1\" class=\"dataframe\">\n",
       "  <thead>\n",
       "    <tr style=\"text-align: right;\">\n",
       "      <th></th>\n",
       "      <th>text</th>\n",
       "      <th>label</th>\n",
       "    </tr>\n",
       "  </thead>\n",
       "  <tbody>\n",
       "    <tr>\n",
       "      <th>5005</th>\n",
       "      <td>Quien es el jugador más marrullero, follonero, cerdo y que nunca lo expulsan? HASHTAG HASHTAG</td>\n",
       "      <td>disgust</td>\n",
       "    </tr>\n",
       "    <tr>\n",
       "      <th>403</th>\n",
       "      <td>Los ideales de izquierdas, son como un cuento de hadas precioso, pero puestas en prácticas son nulas, la historia y los datos hablan por sí solos. HASHTAG HASHTAG</td>\n",
       "      <td>disgust</td>\n",
       "    </tr>\n",
       "    <tr>\n",
       "      <th>3290</th>\n",
       "      <td>Ver arder HASHTAG, con el corazón encogido, no se puede imaginar lo que sienten los parisinos si el mundo entero está consternado.... volver al tuiter y ver que los políticos españoles siguen con sus gilipolleces ... definitivamente, que paren el...</td>\n",
       "      <td>disgust</td>\n",
       "    </tr>\n",
       "    <tr>\n",
       "      <th>4166</th>\n",
       "      <td>Yo creo que Abascal con sus declaraciones se define el solito pero van a tener mucha voz y da mucho miedo su discurso... me pongo muy mala de escucharlo... HASHTAG</td>\n",
       "      <td>fear</td>\n",
       "    </tr>\n",
       "    <tr>\n",
       "      <th>7740</th>\n",
       "      <td>Gracias a todos los interventores y apoderados del PP de Marinaleda    Hoy HASHTAG  HASHTAG para HASHTAG   HASHTAG HASHTAG  URL</td>\n",
       "      <td>disgust</td>\n",
       "    </tr>\n",
       "    <tr>\n",
       "      <th>6442</th>\n",
       "      <td>Maduro no será lo que sea, es un DICTADOR. Y no es un golpe de estado cuando no hay una autoridades legítimamente instituidas. Maduro robo elecciones y usurpó el poder en HASHTAG  URL</td>\n",
       "      <td>disgust</td>\n",
       "    </tr>\n",
       "    <tr>\n",
       "      <th>6425</th>\n",
       "      <td>Expreso mi solidaridad al pueblo de HASHTAG, y mi repudio a USER  por la masacre contra la población civil.  HASHTAG... literal</td>\n",
       "      <td>disgust</td>\n",
       "    </tr>\n",
       "    <tr>\n",
       "      <th>943</th>\n",
       "      <td>No Bran, que es el arma secreta!! sin el están acabados esta vez de verdad HASHTAG HASHTAG</td>\n",
       "      <td>fear</td>\n",
       "    </tr>\n",
       "    <tr>\n",
       "      <th>1336</th>\n",
       "      <td>Que Bildu tenga 4 escaños me parece una vergüenza, que esa escoria terrorista pise  un congreso demócrata me repugna HASHTAG</td>\n",
       "      <td>disgust</td>\n",
       "    </tr>\n",
       "    <tr>\n",
       "      <th>4425</th>\n",
       "      <td>Huele a pacto PSOE Y Ciudadanos. Y huele muy muy mal. HASHTAG HASHTAG HASHTAG</td>\n",
       "      <td>disgust</td>\n",
       "    </tr>\n",
       "    <tr>\n",
       "      <th>3425</th>\n",
       "      <td>Como se nota que HASHTAG ya no tiene el apoyo de los libros. Vaya mierda de temporada se están sacando.</td>\n",
       "      <td>disgust</td>\n",
       "    </tr>\n",
       "    <tr>\n",
       "      <th>1855</th>\n",
       "      <td>Lo que más miedo me da de lo de HASHTAG es que aquí en México, tienen hoy el poder total el grupo que justifica la Dictadura por el simple hecho de estar en contra de lo que ellos llaman Neoliberalismo. El \"será lo que sea\" es un escándalo</td>\n",
       "      <td>fear</td>\n",
       "    </tr>\n",
       "    <tr>\n",
       "      <th>6144</th>\n",
       "      <td>Qué nervios!!! No sé con quién seguir los resultsdos electorales. En USER está USER que ya es un punto a favor... 👏🏼👏🏼 HASHTAG HASHTAG HASHTAG HASHTAG HASHTAG  HASHTAG HASHTAG HASHTAG HASHTAG  URL</td>\n",
       "      <td>fear</td>\n",
       "    </tr>\n",
       "    <tr>\n",
       "      <th>7731</th>\n",
       "      <td>Yo si fuera Franco estaría acojonaillo, en cuatro años no lo salva ni el supremo. HASHTAG</td>\n",
       "      <td>fear</td>\n",
       "    </tr>\n",
       "    <tr>\n",
       "      <th>5095</th>\n",
       "      <td>Han estado insultando a más de media España durante más de 9 meses, los 3 mosqueteros, los salvadores de la patria, el Trifachito, tragaros vuestra bilis perdedores. USER USER USER HASHTAG</td>\n",
       "      <td>disgust</td>\n",
       "    </tr>\n",
       "    <tr>\n",
       "      <th>6769</th>\n",
       "      <td>Un cura diciendo que lo qué pasó en HASHTAG debe servir al gobierno de Mexico para que den recursos para restaurar la catedral y pues no mamen, con todo lo que levantan de “limosnas” deberían meterle varo ellos mismos.  URL</td>\n",
       "      <td>disgust</td>\n",
       "    </tr>\n",
       "    <tr>\n",
       "      <th>330</th>\n",
       "      <td>El periódico USER insinuando que Leopoldo López es un cobarde. Es indigno y refleja que la extrema izquierda bolivariana tiene muchos aliados HASHTAG  URL</td>\n",
       "      <td>disgust</td>\n",
       "    </tr>\n",
       "    <tr>\n",
       "      <th>6925</th>\n",
       "      <td>HASHTAG pero a este tipejo de Fran Pérez quién le paga? Se puede ser más cínico respecto a la situación de HASHTAG? Mire, señor, dedíquese a otra cosa porque sus comentarios sesgados lo que generan es más desinformación.</td>\n",
       "      <td>disgust</td>\n",
       "    </tr>\n",
       "    <tr>\n",
       "      <th>3384</th>\n",
       "      <td>Perdón pero si a esta altura hay gente que sigue apoyando a Maduro, quiero decirles que son unas mierdas y no quieren ver la realidad HASHTAG</td>\n",
       "      <td>disgust</td>\n",
       "    </tr>\n",
       "    <tr>\n",
       "      <th>6855</th>\n",
       "      <td>Venezolanos por favor, ahora más unidos que nunca, no dejen la calle sola. Llegó el fin de tantos años de miseria, sigan en la calle HASHTAG</td>\n",
       "      <td>fear</td>\n",
       "    </tr>\n",
       "  </tbody>\n",
       "</table>\n",
       "</div>"
      ],
      "text/plain": [
       "                                                                                                                                                                                                                                                           text  \\\n",
       "5005                                                                                                                                                              Quien es el jugador más marrullero, follonero, cerdo y que nunca lo expulsan? HASHTAG HASHTAG   \n",
       "403                                                                                          Los ideales de izquierdas, son como un cuento de hadas precioso, pero puestas en prácticas son nulas, la historia y los datos hablan por sí solos. HASHTAG HASHTAG   \n",
       "3290  Ver arder HASHTAG, con el corazón encogido, no se puede imaginar lo que sienten los parisinos si el mundo entero está consternado.... volver al tuiter y ver que los políticos españoles siguen con sus gilipolleces ... definitivamente, que paren el...   \n",
       "4166                                                                                        Yo creo que Abascal con sus declaraciones se define el solito pero van a tener mucha voz y da mucho miedo su discurso... me pongo muy mala de escucharlo... HASHTAG   \n",
       "7740                                                                                                                            Gracias a todos los interventores y apoderados del PP de Marinaleda    Hoy HASHTAG  HASHTAG para HASHTAG   HASHTAG HASHTAG  URL   \n",
       "6442                                                                    Maduro no será lo que sea, es un DICTADOR. Y no es un golpe de estado cuando no hay una autoridades legítimamente instituidas. Maduro robo elecciones y usurpó el poder en HASHTAG  URL   \n",
       "6425                                                                                                                            Expreso mi solidaridad al pueblo de HASHTAG, y mi repudio a USER  por la masacre contra la población civil.  HASHTAG... literal   \n",
       "943                                                                                                                                                                  No Bran, que es el arma secreta!! sin el están acabados esta vez de verdad HASHTAG HASHTAG   \n",
       "1336                                                                                                                               Que Bildu tenga 4 escaños me parece una vergüenza, que esa escoria terrorista pise  un congreso demócrata me repugna HASHTAG   \n",
       "4425                                                                                                                                                                              Huele a pacto PSOE Y Ciudadanos. Y huele muy muy mal. HASHTAG HASHTAG HASHTAG   \n",
       "3425                                                                                                                                                    Como se nota que HASHTAG ya no tiene el apoyo de los libros. Vaya mierda de temporada se están sacando.   \n",
       "1855            Lo que más miedo me da de lo de HASHTAG es que aquí en México, tienen hoy el poder total el grupo que justifica la Dictadura por el simple hecho de estar en contra de lo que ellos llaman Neoliberalismo. El \"será lo que sea\" es un escándalo   \n",
       "6144                                                       Qué nervios!!! No sé con quién seguir los resultsdos electorales. En USER está USER que ya es un punto a favor... 👏🏼👏🏼 HASHTAG HASHTAG HASHTAG HASHTAG HASHTAG  HASHTAG HASHTAG HASHTAG HASHTAG  URL   \n",
       "7731                                                                                                                                                                  Yo si fuera Franco estaría acojonaillo, en cuatro años no lo salva ni el supremo. HASHTAG   \n",
       "5095                                                               Han estado insultando a más de media España durante más de 9 meses, los 3 mosqueteros, los salvadores de la patria, el Trifachito, tragaros vuestra bilis perdedores. USER USER USER HASHTAG   \n",
       "6769                            Un cura diciendo que lo qué pasó en HASHTAG debe servir al gobierno de Mexico para que den recursos para restaurar la catedral y pues no mamen, con todo lo que levantan de “limosnas” deberían meterle varo ellos mismos.  URL   \n",
       "330                                                                                                  El periódico USER insinuando que Leopoldo López es un cobarde. Es indigno y refleja que la extrema izquierda bolivariana tiene muchos aliados HASHTAG  URL   \n",
       "6925                               HASHTAG pero a este tipejo de Fran Pérez quién le paga? Se puede ser más cínico respecto a la situación de HASHTAG? Mire, señor, dedíquese a otra cosa porque sus comentarios sesgados lo que generan es más desinformación.   \n",
       "3384                                                                                                              Perdón pero si a esta altura hay gente que sigue apoyando a Maduro, quiero decirles que son unas mierdas y no quieren ver la realidad HASHTAG   \n",
       "6855                                                                                                               Venezolanos por favor, ahora más unidos que nunca, no dejen la calle sola. Llegó el fin de tantos años de miseria, sigan en la calle HASHTAG   \n",
       "\n",
       "        label  \n",
       "5005  disgust  \n",
       "403   disgust  \n",
       "3290  disgust  \n",
       "4166     fear  \n",
       "7740  disgust  \n",
       "6442  disgust  \n",
       "6425  disgust  \n",
       "943      fear  \n",
       "1336  disgust  \n",
       "4425  disgust  \n",
       "3425  disgust  \n",
       "1855     fear  \n",
       "6144     fear  \n",
       "7731     fear  \n",
       "5095  disgust  \n",
       "6769  disgust  \n",
       "330   disgust  \n",
       "6925  disgust  \n",
       "3384  disgust  \n",
       "6855     fear  "
      ]
     },
     "execution_count": 20,
     "metadata": {},
     "output_type": "execute_result"
    }
   ],
   "source": [
    "import pandas as pd\n",
    "\n",
    "pd.options.display.max_colwidth = 250\n",
    "df[df[\"label\"].isin([\"fear\", \"disgust\"])].sample(20)"
   ]
  },
  {
   "cell_type": "code",
   "execution_count": 18,
   "metadata": {},
   "outputs": [
    {
     "data": {
      "text/plain": [
       "<bound method Series.isin of 0        others\n",
       "1       sadness\n",
       "2           joy\n",
       "3           joy\n",
       "4         anger\n",
       "         ...   \n",
       "8404      anger\n",
       "8405      anger\n",
       "8406      anger\n",
       "8407      anger\n",
       "8408      anger\n",
       "Name: label, Length: 8409, dtype: object>"
      ]
     },
     "execution_count": 18,
     "metadata": {},
     "output_type": "execute_result"
    }
   ],
   "source": []
  },
  {
   "cell_type": "code",
   "execution_count": null,
   "metadata": {},
   "outputs": [],
   "source": []
  }
 ],
 "metadata": {
  "interpreter": {
   "hash": "387abc9bc94d8eb1bd0148a5d4cb2bf99bc3b40fa501b808e2b508b4f65ed831"
  },
  "kernelspec": {
   "display_name": "Python 3.8.5 64-bit ('pysent-oyXQVI9B': pipenv)",
   "language": "python",
   "name": "python3"
  },
  "language_info": {
   "codemirror_mode": {
    "name": "ipython",
    "version": 3
   },
   "file_extension": ".py",
   "mimetype": "text/x-python",
   "name": "python",
   "nbconvert_exporter": "python",
   "pygments_lexer": "ipython3",
   "version": "3.7.12"
  },
  "metadata": {
   "interpreter": {
    "hash": "1b2ee3c7e4be117f16044e4287774c113d04cbc1cc9e7e3b16e6e098f73486a4"
   }
  },
  "orig_nbformat": 3
 },
 "nbformat": 4,
 "nbformat_minor": 4
}
