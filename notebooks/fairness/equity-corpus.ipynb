{
 "cells": [
  {
   "cell_type": "markdown",
   "metadata": {},
   "source": [
    "## Fairness evaluation\n",
    "\n",
    "In this notebook we will evaluate the fairness of several emotion detection models using the `equity_evaluation_corpus`"
   ]
  },
  {
   "cell_type": "code",
   "execution_count": 1,
   "metadata": {},
   "outputs": [
    {
     "data": {
      "application/vnd.jupyter.widget-view+json": {
       "model_id": "320cb1cea52a4974a957fdf001a3e30d",
       "version_major": 2,
       "version_minor": 0
      },
      "text/plain": [
       "Downloading builder script:   0%|          | 0.00/5.16k [00:00<?, ?B/s]"
      ]
     },
     "metadata": {},
     "output_type": "display_data"
    },
    {
     "data": {
      "application/vnd.jupyter.widget-view+json": {
       "model_id": "de256d63e3334a1fb433b6a775198e9f",
       "version_major": 2,
       "version_minor": 0
      },
      "text/plain": [
       "Downloading metadata:   0%|          | 0.00/2.71k [00:00<?, ?B/s]"
      ]
     },
     "metadata": {},
     "output_type": "display_data"
    },
    {
     "data": {
      "application/vnd.jupyter.widget-view+json": {
       "model_id": "ad9fd4788e9646a9973fdc8b611700a4",
       "version_major": 2,
       "version_minor": 0
      },
      "text/plain": [
       "Downloading readme:   0%|          | 0.00/3.77k [00:00<?, ?B/s]"
      ]
     },
     "metadata": {},
     "output_type": "display_data"
    },
    {
     "data": {
      "application/vnd.jupyter.widget-view+json": {
       "model_id": "2b2815f082664893a39e035eeb854e15",
       "version_major": 2,
       "version_minor": 0
      },
      "text/plain": [
       "Downloading data:   0%|          | 0.00/1.67M [00:00<?, ?B/s]"
      ]
     },
     "metadata": {},
     "output_type": "display_data"
    },
    {
     "data": {
      "application/vnd.jupyter.widget-view+json": {
       "model_id": "7a858d15af544ef592e2f4c11ca877f9",
       "version_major": 2,
       "version_minor": 0
      },
      "text/plain": [
       "Generating train split:   0%|          | 0/8640 [00:00<?, ? examples/s]"
      ]
     },
     "metadata": {},
     "output_type": "display_data"
    },
    {
     "data": {
      "text/plain": [
       "DatasetDict({\n",
       "    train: Dataset({\n",
       "        features: ['sentence', 'template', 'person', 'gender', 'race', 'emotion', 'emotion word'],\n",
       "        num_rows: 8640\n",
       "    })\n",
       "})"
      ]
     },
     "execution_count": 1,
     "metadata": {},
     "output_type": "execute_result"
    }
   ],
   "source": [
    "%load_ext autoreload\n",
    "%autoreload 2\n",
    "\n",
    "from datasets import load_dataset\n",
    "\n",
    "ds = load_dataset(\"peixian/equity_evaluation_corpus\")\n",
    "\n",
    "ds"
   ]
  },
  {
   "cell_type": "code",
   "execution_count": 32,
   "metadata": {},
   "outputs": [
    {
     "data": {
      "text/plain": [
       "{'sentence': 'Alonzo feels angry.',\n",
       " 'template': '<person subject> feels <emotion word>.',\n",
       " 'person': 'Alonzo',\n",
       " 'gender': 'male',\n",
       " 'race': 'African-American',\n",
       " 'emotion': 'anger',\n",
       " 'emotion word': 'angry'}"
      ]
     },
     "execution_count": 32,
     "metadata": {},
     "output_type": "execute_result"
    }
   ],
   "source": [
    "ds[\"train\"][0]"
   ]
  },
  {
   "cell_type": "code",
   "execution_count": 33,
   "metadata": {},
   "outputs": [],
   "source": [
    "df = ds['train'].to_pandas()"
   ]
  },
  {
   "cell_type": "code",
   "execution_count": 34,
   "metadata": {},
   "outputs": [
    {
     "data": {
      "application/vnd.jupyter.widget-view+json": {
       "model_id": "15b59f818ee94715b5e1166b53a73d5c",
       "version_major": 2,
       "version_minor": 0
      },
      "text/plain": [
       "Downloading pytorch_model.bin:   0%|          | 0.00/438M [00:00<?, ?B/s]"
      ]
     },
     "metadata": {},
     "output_type": "display_data"
    },
    {
     "data": {
      "application/vnd.jupyter.widget-view+json": {
       "model_id": "697f6be8a650436bb0749bce6f9ec63f",
       "version_major": 2,
       "version_minor": 0
      },
      "text/plain": [
       "Map:   0%|          | 0/8640 [00:00<?, ? examples/s]"
      ]
     },
     "metadata": {},
     "output_type": "display_data"
    }
   ],
   "source": [
    "from pysentimiento import create_analyzer\n",
    "\n",
    "analyzer = create_analyzer(\"emotion\", lang=\"en\", model_name=\"pysentimiento/bert-base-uncased-emotion\")\n",
    "\n",
    "preds = analyzer.predict(df['sentence'])"
   ]
  },
  {
   "cell_type": "code",
   "execution_count": 35,
   "metadata": {},
   "outputs": [
    {
     "data": {
      "text/plain": [
       "AnalyzerOutput(output=['anger'], probas={admiration: 0.001, amusement: 0.001, anger: 0.927, annoyance: 0.035, approval: 0.003, caring: 0.003, confusion: 0.005, curiosity: 0.006, desire: 0.002, disappointment: 0.003, disapproval: 0.005, disgust: 0.007, embarrassment: 0.001, excitement: 0.003, fear: 0.002, gratitude: 0.002, grief: 0.003, joy: 0.002, love: 0.002, nervousness: 0.001, optimism: 0.004, pride: 0.002, realization: 0.001, relief: 0.001, remorse: 0.001, sadness: 0.007, surprise: 0.002, neutral: 0.132})"
      ]
     },
     "execution_count": 35,
     "metadata": {},
     "output_type": "execute_result"
    }
   ],
   "source": [
    "preds[0]"
   ]
  },
  {
   "cell_type": "markdown",
   "metadata": {},
   "source": [
    "Ok, let's get just the emotions"
   ]
  },
  {
   "cell_type": "code",
   "execution_count": 36,
   "metadata": {},
   "outputs": [
    {
     "data": {
      "text/plain": [
       "pred\n",
       "[fear]                         1289\n",
       "[sadness]                      1255\n",
       "[neutral]                       972\n",
       "[annoyance]                     897\n",
       "[anger]                         691\n",
       "[joy]                           543\n",
       "[admiration]                    480\n",
       "[disappointment]                437\n",
       "[]                              362\n",
       "[amusement]                     355\n",
       "[excitement]                    276\n",
       "[nervousness]                   223\n",
       "[surprise]                      175\n",
       "[excitement, joy]               141\n",
       "[relief]                        139\n",
       "[disappointment, sadness]       122\n",
       "[fear, neutral]                  54\n",
       "[annoyance, neutral]             26\n",
       "[anger, neutral]                 23\n",
       "[admiration, neutral]            21\n",
       "[caring]                         20\n",
       "[realization]                    19\n",
       "[disgust]                        17\n",
       "[sadness, neutral]               14\n",
       "[admiration, excitement]         13\n",
       "[amusement, annoyance]           10\n",
       "[joy, relief]                    10\n",
       "[surprise, neutral]               8\n",
       "[disgust, fear]                   7\n",
       "[approval]                        6\n",
       "[joy, neutral]                    6\n",
       "[admiration, surprise]            5\n",
       "[amusement, joy]                  4\n",
       "[admiration, joy]                 4\n",
       "[anger, annoyance]                3\n",
       "[approval, neutral]               3\n",
       "[annoyance, disappointment]       3\n",
       "[excitement, neutral]             2\n",
       "[approval, relief]                1\n",
       "[nervousness, sadness]            1\n",
       "[amusement, neutral]              1\n",
       "[disappointment, neutral]         1\n",
       "[annoyance, fear]                 1\n",
       "Name: count, dtype: int64"
      ]
     },
     "execution_count": 36,
     "metadata": {},
     "output_type": "execute_result"
    }
   ],
   "source": [
    "emotions = [p.output for p in preds]\n",
    "\n",
    "df[\"pred\"] = emotions\n",
    "\n",
    "df[\"pred\"].value_counts()"
   ]
  },
  {
   "cell_type": "markdown",
   "metadata": {},
   "source": [
    "We'll map this to Ekman emotions (see [Section 5.1 of GoEmotions paper](https://aclanthology.org/2020.acl-main.372.pdf))"
   ]
  },
  {
   "cell_type": "code",
   "execution_count": 56,
   "metadata": {},
   "outputs": [
    {
     "data": {
      "text/plain": [
       "(28, [])"
      ]
     },
     "execution_count": 56,
     "metadata": {},
     "output_type": "execute_result"
    }
   ],
   "source": [
    "emotion_groups = {\n",
    "    # Here I put disgust in anger\n",
    "    \"anger\": [\"anger\", \"annoyance\", \"disapproval\", \"disgust\"],\n",
    "    \"fear\": [\"fear\", \"nervousness\"],\n",
    "    \"joy\": [\n",
    "        \"admiration\", \"amusement\", \"approval\", \"desire\", \"caring\", \"excitement\", \"gratitude\",\n",
    "        \"joy\", \"love\", \"optimism\", \"pride\", \"relief\"\n",
    "    ],\n",
    "    \"sadness\": [\"sadness\", \"remorse\", \"disappointment\", \"embarrassment\", \"grief\"],\n",
    "    \"surprise\": [\"surprise\", \"realization\", \"confusion\", \"curiosity\"],\n",
    "    \"neutral\": [\"neutral\"]\n",
    "}\n",
    "\n",
    "go2ekman = {v:k for k, vs in emotion_groups.items() for v in vs}\n",
    "\n",
    "# Check no emotion is missing\n",
    "len(go2ekman), [emotion for emotion in analyzer.model.config.id2label.values() if emotion not in go2ekman]"
   ]
  },
  {
   "cell_type": "code",
   "execution_count": 61,
   "metadata": {},
   "outputs": [
    {
     "data": {
      "text/plain": [
       "ekman_pred\n",
       "[joy]                  1992\n",
       "[sadness]              1814\n",
       "[anger]                1608\n",
       "[fear]                 1512\n",
       "[neutral]               972\n",
       "[]                      362\n",
       "[surprise]              194\n",
       "[fear, neutral]          54\n",
       "[neutral, anger]         49\n",
       "[neutral, joy]           33\n",
       "[neutral, sadness]       15\n",
       "[joy, anger]             10\n",
       "[neutral, surprise]       8\n",
       "[fear, anger]             8\n",
       "[joy, surprise]           5\n",
       "[sadness, anger]          3\n",
       "[fear, sadness]           1\n",
       "Name: count, dtype: int64"
      ]
     },
     "execution_count": 61,
     "metadata": {},
     "output_type": "execute_result"
    }
   ],
   "source": [
    "# Get Ekman emotions\n",
    "df[\"ekman_pred\"] = df[\"pred\"].apply(lambda x: list({go2ekman[emotion] for emotion in x}))\n",
    "df[\"ekman_pred\"].value_counts()"
   ]
  },
  {
   "cell_type": "code",
   "execution_count": 62,
   "metadata": {},
   "outputs": [
    {
     "data": {
      "text/plain": [
       "ekman_pred\n",
       "joy        2030\n",
       "sadness    1829\n",
       "anger      1678\n",
       "fear       1567\n",
       "neutral    1536\n",
       "Name: count, dtype: int64"
      ]
     },
     "execution_count": 62,
     "metadata": {},
     "output_type": "execute_result"
    }
   ],
   "source": [
    "# If neutral and other emotion, remove neutral\n",
    "\n",
    "df[\"ekman_pred\"] = df[\"ekman_pred\"].apply(lambda x: list(filter(lambda y: y != \"neutral\", x)) if \"neutral\" in x and len(x) > 1 else x)\n",
    "# Remove surprise\n",
    "df[\"ekman_pred\"] = df[\"ekman_pred\"].apply(lambda x: list(filter(lambda y: y != \"surprise\", x)))\n",
    "# If no emotion, add neutral\n",
    "df[\"ekman_pred\"] = df[\"ekman_pred\"].apply(lambda x: [\"neutral\"] if len(x) == 0 else x)\n",
    "\n",
    "# Select one emotion\n",
    "\n",
    "df[\"ekman_pred\"] = df[\"ekman_pred\"].apply(lambda x: \"anger\" if \"anger\" in x else x[0])\n",
    "\n",
    "df[\"ekman_pred\"].value_counts()"
   ]
  },
  {
   "cell_type": "code",
   "execution_count": 65,
   "metadata": {},
   "outputs": [
    {
     "data": {
      "text/plain": [
       "emotion\n",
       "anger      2100\n",
       "sadness    2100\n",
       "fear       2100\n",
       "joy        2100\n",
       "neutral     240\n",
       "Name: count, dtype: int64"
      ]
     },
     "execution_count": 65,
     "metadata": {},
     "output_type": "execute_result"
    }
   ],
   "source": [
    "df[\"emotion\"] = df[\"emotion\"].apply(lambda x: \"neutral\" if x == \"\" else x)\n",
    "\n",
    "df[\"emotion\"].value_counts()"
   ]
  }
 ],
 "metadata": {
  "kernelspec": {
   "display_name": ".venv",
   "language": "python",
   "name": "python3"
  },
  "language_info": {
   "codemirror_mode": {
    "name": "ipython",
    "version": 3
   },
   "file_extension": ".py",
   "mimetype": "text/x-python",
   "name": "python",
   "nbconvert_exporter": "python",
   "pygments_lexer": "ipython3",
   "version": "3.8.16"
  },
  "orig_nbformat": 4
 },
 "nbformat": 4,
 "nbformat_minor": 2
}
