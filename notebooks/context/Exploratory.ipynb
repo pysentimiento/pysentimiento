{
 "cells": [
  {
   "cell_type": "code",
   "execution_count": 4,
   "metadata": {},
   "outputs": [
    {
     "name": "stdout",
     "output_type": "stream",
     "text": [
      "The autoreload extension is already loaded. To reload it, use:\n",
      "  %reload_ext autoreload\n"
     ]
    },
    {
     "name": "stderr",
     "output_type": "stream",
     "text": [
      "WARNING:datasets.builder:Found cached dataset parquet (/users/jmperez/.cache/huggingface/datasets/piuba-bigdata___parquet/piubamas--contextualized_hate_speech-705fd7f8ab158f68/0.0.0/2a3b91fbd88a2c90d1dbbb32b460cf621d31bd5b05b934492fdef7d8d6f236ec)\n"
     ]
    },
    {
     "data": {
      "application/vnd.jupyter.widget-view+json": {
       "model_id": "08817dc56ee246a09b3a032d086e076d",
       "version_major": 2,
       "version_minor": 0
      },
      "text/plain": [
       "  0%|          | 0/3 [00:00<?, ?it/s]"
      ]
     },
     "metadata": {},
     "output_type": "display_data"
    },
    {
     "name": "stderr",
     "output_type": "stream",
     "text": [
      "WARNING:datasets.arrow_dataset:Loading cached processed dataset at /users/jmperez/.cache/huggingface/datasets/piuba-bigdata___parquet/piubamas--contextualized_hate_speech-705fd7f8ab158f68/0.0.0/2a3b91fbd88a2c90d1dbbb32b460cf621d31bd5b05b934492fdef7d8d6f236ec/cache-d2be0a66c655e083.arrow\n",
      "WARNING:datasets.arrow_dataset:Loading cached processed dataset at /users/jmperez/.cache/huggingface/datasets/piuba-bigdata___parquet/piubamas--contextualized_hate_speech-705fd7f8ab158f68/0.0.0/2a3b91fbd88a2c90d1dbbb32b460cf621d31bd5b05b934492fdef7d8d6f236ec/cache-715e1f0581bd2ee5.arrow\n",
      "WARNING:datasets.arrow_dataset:Loading cached processed dataset at /users/jmperez/.cache/huggingface/datasets/piuba-bigdata___parquet/piubamas--contextualized_hate_speech-705fd7f8ab158f68/0.0.0/2a3b91fbd88a2c90d1dbbb32b460cf621d31bd5b05b934492fdef7d8d6f236ec/cache-3cb2f980b25f1610.arrow\n"
     ]
    },
    {
     "data": {
      "application/vnd.jupyter.widget-view+json": {
       "model_id": "88a155374a6f45d9a70105d2d9a8eb65",
       "version_major": 2,
       "version_minor": 0
      },
      "text/plain": [
       "Map:   0%|          | 0/11343 [00:00<?, ? examples/s]"
      ]
     },
     "metadata": {},
     "output_type": "display_data"
    },
    {
     "data": {
      "application/vnd.jupyter.widget-view+json": {
       "model_id": "c419d90cee144c2dbfa58491f9fb5483",
       "version_major": 2,
       "version_minor": 0
      },
      "text/plain": [
       "Map:   0%|          | 0/9106 [00:00<?, ? examples/s]"
      ]
     },
     "metadata": {},
     "output_type": "display_data"
    },
    {
     "data": {
      "application/vnd.jupyter.widget-view+json": {
       "model_id": "d3bc4388693b4304b7babdb483afa8e7",
       "version_major": 2,
       "version_minor": 0
      },
      "text/plain": [
       "Map:   0%|          | 0/36420 [00:00<?, ? examples/s]"
      ]
     },
     "metadata": {},
     "output_type": "display_data"
    }
   ],
   "source": [
    "%load_ext autoreload\n",
    "%autoreload 2\n",
    "from pysentimiento.context_hate import load_datasets\n",
    "\n",
    "ds = load_datasets(lang=\"es\")"
   ]
  },
  {
   "cell_type": "code",
   "execution_count": 6,
   "metadata": {},
   "outputs": [
    {
     "name": "stderr",
     "output_type": "stream",
     "text": [
      "WARNING:datasets.arrow_dataset:Loading cached processed dataset at /users/jmperez/.cache/huggingface/datasets/piuba-bigdata___parquet/piubamas--contextualized_hate_speech-705fd7f8ab158f68/0.0.0/2a3b91fbd88a2c90d1dbbb32b460cf621d31bd5b05b934492fdef7d8d6f236ec/cache-21d6ba47fe7ba257.arrow\n"
     ]
    },
    {
     "data": {
      "application/vnd.jupyter.widget-view+json": {
       "model_id": "bfac0f29371f48debc47493aa4beec98",
       "version_major": 2,
       "version_minor": 0
      },
      "text/plain": [
       "Map:   0%|          | 0/9106 [00:00<?, ? examples/s]"
      ]
     },
     "metadata": {},
     "output_type": "display_data"
    },
    {
     "name": "stderr",
     "output_type": "stream",
     "text": [
      "WARNING:datasets.arrow_dataset:Loading cached processed dataset at /users/jmperez/.cache/huggingface/datasets/piuba-bigdata___parquet/piubamas--contextualized_hate_speech-705fd7f8ab158f68/0.0.0/2a3b91fbd88a2c90d1dbbb32b460cf621d31bd5b05b934492fdef7d8d6f236ec/cache-d90e0c950c802488.arrow\n",
      "/users/jmperez/projects/pysentimiento/.venv/lib/python3.8/site-packages/transformers/optimization.py:391: FutureWarning: This implementation of AdamW is deprecated and will be removed in a future version. Use the PyTorch implementation torch.optim.AdamW instead, or set `no_deprecation_warning=True` to disable this warning\n",
      "  warnings.warn(\n",
      "ERROR:wandb.jupyter:Failed to detect the name of this notebook, you can set it manually with the WANDB_NOTEBOOK_NAME environment variable to enable code saving.\n"
     ]
    },
    {
     "name": "stdout",
     "output_type": "stream",
     "text": [
      "huggingface/tokenizers: The current process just got forked, after parallelism has already been used. Disabling parallelism to avoid deadlocks...\n",
      "To disable this warning, you can either:\n",
      "\t- Avoid using `tokenizers` before the fork if possible\n",
      "\t- Explicitly set the environment variable TOKENIZERS_PARALLELISM=(true | false)\n"
     ]
    },
    {
     "name": "stderr",
     "output_type": "stream",
     "text": [
      "\u001b[34m\u001b[1mwandb\u001b[0m: Currently logged in as: \u001b[33mjmperez\u001b[0m. Use \u001b[1m`wandb login --relogin`\u001b[0m to force relogin\n"
     ]
    },
    {
     "name": "stdout",
     "output_type": "stream",
     "text": [
      "huggingface/tokenizers: The current process just got forked, after parallelism has already been used. Disabling parallelism to avoid deadlocks...\n",
      "To disable this warning, you can either:\n",
      "\t- Avoid using `tokenizers` before the fork if possible\n",
      "\t- Explicitly set the environment variable TOKENIZERS_PARALLELISM=(true | false)\n",
      "huggingface/tokenizers: The current process just got forked, after parallelism has already been used. Disabling parallelism to avoid deadlocks...\n",
      "To disable this warning, you can either:\n",
      "\t- Avoid using `tokenizers` before the fork if possible\n",
      "\t- Explicitly set the environment variable TOKENIZERS_PARALLELISM=(true | false)\n"
     ]
    },
    {
     "data": {
      "text/html": [
       "wandb version 0.15.0 is available!  To upgrade, please run:\n",
       " $ pip install wandb --upgrade"
      ],
      "text/plain": [
       "<IPython.core.display.HTML object>"
      ]
     },
     "metadata": {},
     "output_type": "display_data"
    },
    {
     "data": {
      "text/html": [
       "Tracking run with wandb version 0.13.11"
      ],
      "text/plain": [
       "<IPython.core.display.HTML object>"
      ]
     },
     "metadata": {},
     "output_type": "display_data"
    },
    {
     "data": {
      "text/html": [
       "Run data is saved locally in <code>/users/jmperez/projects/pysentimiento/wandb/run-20230429_122123-gv75z7yn</code>"
      ],
      "text/plain": [
       "<IPython.core.display.HTML object>"
      ]
     },
     "metadata": {},
     "output_type": "display_data"
    },
    {
     "data": {
      "text/html": [
       "Syncing run <strong><a href='https://wandb.ai/jmperez/huggingface/runs/gv75z7yn' target=\"_blank\">cerulean-sponge-43</a></strong> to <a href='https://wandb.ai/jmperez/huggingface' target=\"_blank\">Weights & Biases</a> (<a href='https://wandb.me/run' target=\"_blank\">docs</a>)<br/>"
      ],
      "text/plain": [
       "<IPython.core.display.HTML object>"
      ]
     },
     "metadata": {},
     "output_type": "display_data"
    },
    {
     "data": {
      "text/html": [
       " View project at <a href='https://wandb.ai/jmperez/huggingface' target=\"_blank\">https://wandb.ai/jmperez/huggingface</a>"
      ],
      "text/plain": [
       "<IPython.core.display.HTML object>"
      ]
     },
     "metadata": {},
     "output_type": "display_data"
    },
    {
     "data": {
      "text/html": [
       " View run at <a href='https://wandb.ai/jmperez/huggingface/runs/gv75z7yn' target=\"_blank\">https://wandb.ai/jmperez/huggingface/runs/gv75z7yn</a>"
      ],
      "text/plain": [
       "<IPython.core.display.HTML object>"
      ]
     },
     "metadata": {},
     "output_type": "display_data"
    },
    {
     "name": "stderr",
     "output_type": "stream",
     "text": [
      "/users/jmperez/projects/pysentimiento/.venv/lib/python3.8/site-packages/torch/nn/parallel/_functions.py:68: UserWarning: Was asked to gather along dimension 0, but all input tensors were scalars; will instead unsqueeze and return a vector.\n",
      "  warnings.warn('Was asked to gather along dimension 0, but all '\n"
     ]
    },
    {
     "name": "stdout",
     "output_type": "stream",
     "text": [
      "{'loss': 0.14, 'learning_rate': 3.931124106562703e-05, 'epoch': 0.88}\n",
      "{'eval_loss': 0.06163936108350754, 'eval_calls_f1': 0.6280193236714976, 'eval_calls_precision': 0.8125, 'eval_calls_recall': 0.5118110236220472, 'eval_women_f1': 0.20408163265306126, 'eval_women_precision': 0.8928571428571429, 'eval_women_recall': 0.1152073732718894, 'eval_lgbti_f1': 0.02985074626865672, 'eval_lgbti_precision': 1.0, 'eval_lgbti_recall': 0.015151515151515152, 'eval_racism_f1': 0.5830721003134797, 'eval_racism_precision': 0.8611111111111112, 'eval_racism_recall': 0.44075829383886256, 'eval_class_f1': 0.19736842105263155, 'eval_class_precision': 0.75, 'eval_class_recall': 0.11363636363636363, 'eval_politics_f1': 0.6262626262626262, 'eval_politics_precision': 0.7167630057803468, 'eval_politics_recall': 0.5560538116591929, 'eval_disabled_f1': 0.0, 'eval_disabled_precision': 0.0, 'eval_disabled_recall': 0.0, 'eval_appearance_f1': 0.6830357142857142, 'eval_appearance_precision': 0.8595505617977528, 'eval_appearance_recall': 0.5666666666666667, 'eval_criminal_f1': 0.5310173697270472, 'eval_criminal_precision': 0.6993464052287581, 'eval_criminal_recall': 0.428, 'eval_emr': 0.882604875905996, 'eval_macro_f1': 0.3869675397872925, 'eval_macro_precision': 0.7324587106704712, 'eval_macro_recall': 0.30525386333465576, 'eval_runtime': 17.4193, 'eval_samples_per_second': 522.752, 'eval_steps_per_second': 8.209, 'epoch': 1.0}\n"
     ]
    },
    {
     "name": "stderr",
     "output_type": "stream",
     "text": [
      "/users/jmperez/projects/pysentimiento/.venv/lib/python3.8/site-packages/torch/nn/parallel/_functions.py:68: UserWarning: Was asked to gather along dimension 0, but all input tensors were scalars; will instead unsqueeze and return a vector.\n",
      "  warnings.warn('Was asked to gather along dimension 0, but all '\n"
     ]
    },
    {
     "name": "stdout",
     "output_type": "stream",
     "text": [
      "{'loss': 0.0527, 'learning_rate': 2.3066926575698505e-05, 'epoch': 1.75}\n",
      "{'eval_loss': 0.053607333451509476, 'eval_calls_f1': 0.6863157894736842, 'eval_calls_precision': 0.7375565610859729, 'eval_calls_recall': 0.6417322834645669, 'eval_women_f1': 0.44848484848484854, 'eval_women_precision': 0.6548672566371682, 'eval_women_recall': 0.34101382488479265, 'eval_lgbti_f1': 0.5098039215686274, 'eval_lgbti_precision': 0.7222222222222222, 'eval_lgbti_recall': 0.3939393939393939, 'eval_racism_f1': 0.6612466124661246, 'eval_racism_precision': 0.7721518987341772, 'eval_racism_recall': 0.5781990521327014, 'eval_class_f1': 0.40404040404040403, 'eval_class_precision': 0.6060606060606061, 'eval_class_recall': 0.30303030303030304, 'eval_politics_f1': 0.6476683937823833, 'eval_politics_precision': 0.7668711656441718, 'eval_politics_recall': 0.5605381165919282, 'eval_disabled_f1': 0.4827586206896552, 'eval_disabled_precision': 0.5833333333333334, 'eval_disabled_recall': 0.4117647058823529, 'eval_appearance_f1': 0.7418032786885247, 'eval_appearance_precision': 0.8302752293577982, 'eval_appearance_recall': 0.6703703703703704, 'eval_criminal_f1': 0.5766423357664233, 'eval_criminal_precision': 0.5302013422818792, 'eval_criminal_recall': 0.632, 'eval_emr': 0.8812870634746321, 'eval_macro_f1': 0.5731959939002991, 'eval_macro_precision': 0.6892821788787842, 'eval_macro_recall': 0.5036208629608154, 'eval_runtime': 17.5381, 'eval_samples_per_second': 519.212, 'eval_steps_per_second': 8.154, 'epoch': 2.0}\n"
     ]
    },
    {
     "name": "stderr",
     "output_type": "stream",
     "text": [
      "/users/jmperez/projects/pysentimiento/.venv/lib/python3.8/site-packages/torch/nn/parallel/_functions.py:68: UserWarning: Was asked to gather along dimension 0, but all input tensors were scalars; will instead unsqueeze and return a vector.\n",
      "  warnings.warn('Was asked to gather along dimension 0, but all '\n"
     ]
    },
    {
     "name": "stdout",
     "output_type": "stream",
     "text": [
      "{'loss': 0.0382, 'learning_rate': 6.82261208576998e-06, 'epoch': 2.63}\n",
      "{'eval_loss': 0.054682862013578415, 'eval_calls_f1': 0.6756756756756757, 'eval_calls_precision': 0.7894736842105263, 'eval_calls_recall': 0.5905511811023622, 'eval_women_f1': 0.4709302325581395, 'eval_women_precision': 0.6377952755905512, 'eval_women_recall': 0.37327188940092165, 'eval_lgbti_f1': 0.4467005076142132, 'eval_lgbti_precision': 0.676923076923077, 'eval_lgbti_recall': 0.3333333333333333, 'eval_racism_f1': 0.6611570247933884, 'eval_racism_precision': 0.7894736842105263, 'eval_racism_recall': 0.5687203791469194, 'eval_class_f1': 0.3692307692307692, 'eval_class_precision': 0.5714285714285714, 'eval_class_recall': 0.2727272727272727, 'eval_politics_f1': 0.6530612244897959, 'eval_politics_precision': 0.757396449704142, 'eval_politics_recall': 0.5739910313901345, 'eval_disabled_f1': 0.5442176870748299, 'eval_disabled_precision': 0.6451612903225806, 'eval_disabled_recall': 0.47058823529411764, 'eval_appearance_f1': 0.7655310621242485, 'eval_appearance_precision': 0.834061135371179, 'eval_appearance_recall': 0.7074074074074074, 'eval_criminal_f1': 0.62882096069869, 'eval_criminal_precision': 0.6923076923076923, 'eval_criminal_recall': 0.576, 'eval_emr': 0.890072479683725, 'eval_macro_f1': 0.5794805884361267, 'eval_macro_precision': 0.7104467749595642, 'eval_macro_recall': 0.49628788232803345, 'eval_runtime': 17.0425, 'eval_samples_per_second': 534.312, 'eval_steps_per_second': 8.391, 'epoch': 3.0}\n",
      "{'train_runtime': 543.7429, 'train_samples_per_second': 200.941, 'train_steps_per_second': 3.145, 'train_loss': 0.07166032010351706, 'epoch': 3.0}\n"
     ]
    },
    {
     "name": "stderr",
     "output_type": "stream",
     "text": [
      "/users/jmperez/projects/pysentimiento/.venv/lib/python3.8/site-packages/torch/nn/parallel/_functions.py:68: UserWarning: Was asked to gather along dimension 0, but all input tensors were scalars; will instead unsqueeze and return a vector.\n",
      "  warnings.warn('Was asked to gather along dimension 0, but all '\n"
     ]
    }
   ],
   "source": [
    "from pysentimiento.training import train_and_eval\n",
    "from pysentimiento.tuning import get_training_arguments\n",
    "from pysentimiento.context_hate import id2label\n",
    "\n",
    "model_name = \"pysentimiento/robertuito-base-uncased\"\n",
    "\n",
    "training_args = get_training_arguments(\n",
    "    model_name, \n",
    "    task_name=\"context_hate_speech\", lang=\"es\", \n",
    "    use_defaults_if_not_tuned=True, metric_for_best_model=\"macro_f1\",\n",
    ")\n",
    "\n",
    "\n",
    "trainer, test_results = train_and_eval(\n",
    "    model_name, ds, id2label=id2label, lang=\"es\", training_args=training_args, \n",
    ")\n",
    "\n"
   ]
  },
  {
   "cell_type": "code",
   "execution_count": null,
   "metadata": {},
   "outputs": [],
   "source": []
  }
 ],
 "metadata": {
  "kernelspec": {
   "display_name": ".venv",
   "language": "python",
   "name": "python3"
  },
  "language_info": {
   "codemirror_mode": {
    "name": "ipython",
    "version": 3
   },
   "file_extension": ".py",
   "mimetype": "text/x-python",
   "name": "python",
   "nbconvert_exporter": "python",
   "pygments_lexer": "ipython3",
   "version": "3.8.16"
  },
  "orig_nbformat": 4
 },
 "nbformat": 4,
 "nbformat_minor": 2
}
